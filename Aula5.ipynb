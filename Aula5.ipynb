{
  "nbformat": 4,
  "nbformat_minor": 0,
  "metadata": {
    "colab": {
      "provenance": [],
      "authorship_tag": "ABX9TyN3Dl3G3wPnoFHKboagns6K",
      "include_colab_link": true
    },
    "kernelspec": {
      "name": "python3",
      "display_name": "Python 3"
    },
    "language_info": {
      "name": "python"
    }
  },
  "cells": [
    {
      "cell_type": "markdown",
      "metadata": {
        "id": "view-in-github",
        "colab_type": "text"
      },
      "source": [
        "<a href=\"https://colab.research.google.com/github/burgosje/Aula05_FAST/blob/main/Aula5.ipynb\" target=\"_parent\"><img src=\"https://colab.research.google.com/assets/colab-badge.svg\" alt=\"Open In Colab\"/></a>"
      ]
    },
    {
      "cell_type": "markdown",
      "source": [
        "Aula 05 FAST Transição do Cesar School\n"
      ],
      "metadata": {
        "id": "Dw6F5kpwxv0p"
      }
    },
    {
      "cell_type": "markdown",
      "source": [
        "Strings e manipulação de arquivos"
      ],
      "metadata": {
        "id": "fjtusZ_0-4XF"
      }
    },
    {
      "cell_type": "code",
      "execution_count": null,
      "metadata": {
        "id": "T1QM8DNg9Cja"
      },
      "outputs": [],
      "source": [
        "Strings\n",
        "\n",
        "Índices: posições dos caracteres na string\n",
        "Imutabilidade"
      ]
    },
    {
      "cell_type": "code",
      "source": [
        "N-1 último caracter"
      ],
      "metadata": {
        "id": "WdlZvYSL-39E"
      },
      "execution_count": null,
      "outputs": []
    },
    {
      "cell_type": "code",
      "source": [
        "#Frase invertida\n",
        "teste[::-1]"
      ],
      "metadata": {
        "id": "QFj6otQ2_m7A"
      },
      "execution_count": null,
      "outputs": []
    },
    {
      "cell_type": "code",
      "source": [
        "teste[15:22:2]"
      ],
      "metadata": {
        "id": "DqkcxQYaAvus"
      },
      "execution_count": null,
      "outputs": []
    },
    {
      "cell_type": "code",
      "source": [
        "texto = \"Sorria hoje é sexta!\"\n",
        "\n",
        "print(texto[::-1])\n",
        "print(texto[0])\n",
        "print(texto[15:22:2])"
      ],
      "metadata": {
        "colab": {
          "base_uri": "https://localhost:8080/"
        },
        "id": "d2OCE0pRBEl6",
        "outputId": "a9020379-993a-4b33-9968-a373215f33b5"
      },
      "execution_count": null,
      "outputs": [
        {
          "output_type": "stream",
          "name": "stdout",
          "text": [
            "!atxes é ejoh airroS\n",
            "S\n",
            "et!\n"
          ]
        }
      ]
    },
    {
      "cell_type": "code",
      "source": [
        "nome = \"Irineu\"\n",
        "sobrenome = \"você não sabe nem eu\"\n",
        "\n",
        "print(f\"{nome}, {sobrenome}\")\n",
        "print(nome, sobrenome)\n",
        "print(nome + \", \" + sobrenome)\n",
        "print(\"{}, {}\".format(nome, sobrenome))"
      ],
      "metadata": {
        "colab": {
          "base_uri": "https://localhost:8080/"
        },
        "id": "pM3L-pOaBkZ_",
        "outputId": "3d5ea37a-6c67-4975-b134-793ac2b28d26"
      },
      "execution_count": null,
      "outputs": [
        {
          "output_type": "stream",
          "name": "stdout",
          "text": [
            "Irineu, você não sabe nem eu\n",
            "Irineu você não sabe nem eu\n",
            "Irineu,você não sabe nem eu\n",
            "Irineu, você não sabe nem eu\n"
          ]
        }
      ]
    },
    {
      "cell_type": "code",
      "source": [
        "#troca de palavras\n",
        "#replace()\n",
        "\n",
        "texto = \"Sorria! Hoje é sexta!\"\n",
        "novo_texto = texto.replace(\"Sorria\", \"Força\")\n",
        "print(novo_texto)"
      ],
      "metadata": {
        "colab": {
          "base_uri": "https://localhost:8080/"
        },
        "id": "5UBCd4GkCF3L",
        "outputId": "34ab970d-8cbd-4d2f-dcd3-27ad6c376ce9"
      },
      "execution_count": null,
      "outputs": [
        {
          "output_type": "stream",
          "name": "stdout",
          "text": [
            "Força! Hoje é sexta!\n"
          ]
        }
      ]
    },
    {
      "cell_type": "code",
      "source": [
        "#Tamanho\n",
        "len()\n",
        "\n",
        "#Encontrar\n",
        "find()\n",
        "\n",
        "#Minúscula\n",
        "upper()\n",
        "\n",
        "#Maiúscula\n",
        "lower()\n",
        "\n",
        "#1a letra maiúscula\n",
        "capitalize()\n",
        "\n",
        "#Primeira letra de cada palavra\n",
        "title()"
      ],
      "metadata": {
        "id": "L7oGOWZaCqOo"
      },
      "execution_count": null,
      "outputs": []
    },
    {
      "cell_type": "code",
      "source": [
        "frase = input(\"Digite uma frase: \")\n",
        "\n",
        "print(frase.upper())\n",
        "print(frase.lower())\n",
        "print(frase.capitalize())\n",
        "print(frase.title())\n",
        "print(len(frase))"
      ],
      "metadata": {
        "colab": {
          "base_uri": "https://localhost:8080/"
        },
        "id": "nV80gQUvDFi2",
        "outputId": "23289d05-27f1-4dd7-b860-a45c2f6fc7b8"
      },
      "execution_count": null,
      "outputs": [
        {
          "output_type": "stream",
          "name": "stdout",
          "text": [
            "Digite uma frase: Turma A  do fast\n",
            "TURMA A  DO FAST\n",
            "turma a  do fast\n",
            "Turma a  do fast\n",
            "Turma A  Do Fast\n",
            "16\n"
          ]
        }
      ]
    },
    {
      "cell_type": "code",
      "source": [
        "frase = input(\"Digite uma frase: \").upper()\n",
        "frase = input(\"Digite uma frase: \").lower()"
      ],
      "metadata": {
        "id": "SrnZ2oqlDuIn"
      },
      "execution_count": null,
      "outputs": []
    },
    {
      "cell_type": "code",
      "source": [
        "#Separa por um delimitador\n",
        "split()\n",
        "\n",
        "lstrip()\n",
        "\n",
        "rstrip()\n",
        "\n",
        "strip()"
      ],
      "metadata": {
        "id": "JO2II_1RDziS"
      },
      "execution_count": null,
      "outputs": []
    },
    {
      "cell_type": "code",
      "source": [
        "texto = \"Sorria! Hoje é sexta!\"\n",
        "\n",
        "print(texto.split())"
      ],
      "metadata": {
        "id": "4l-4QmY_D9Rd"
      },
      "execution_count": null,
      "outputs": []
    },
    {
      "cell_type": "code",
      "source": [
        "texto = \"Sorria! Hoje! É sexta!\"\n",
        "\n",
        "print(texto.split(\"!\"))"
      ],
      "metadata": {
        "colab": {
          "base_uri": "https://localhost:8080/"
        },
        "id": "17oxqElUESUA",
        "outputId": "7873eeea-a7b0-4402-c3d1-f2c849afcc6d"
      },
      "execution_count": null,
      "outputs": [
        {
          "output_type": "stream",
          "name": "stdout",
          "text": [
            "['Sorria', ' Hoje', ' É sexta', '']\n"
          ]
        }
      ]
    },
    {
      "cell_type": "code",
      "source": [
        "#remover espaços\n",
        "lstrip()\n",
        "rstrip()\n",
        "strip()"
      ],
      "metadata": {
        "id": "PdaV7ciiEe0b"
      },
      "execution_count": null,
      "outputs": []
    },
    {
      "cell_type": "code",
      "source": [
        "#Separador definido\n",
        "#String em lista\n",
        "join()"
      ],
      "metadata": {
        "id": "mbdLjAtOEifv"
      },
      "execution_count": null,
      "outputs": []
    },
    {
      "cell_type": "code",
      "source": [
        "alunos = [\"Maria\", \"João\", \"Ana\"]\n",
        "\n",
        "print(alunos)\n",
        "print(\", \".join(alunos))\n",
        "print(\" - \".join(alunos))\n",
        "print(\"\".join(alunos))"
      ],
      "metadata": {
        "colab": {
          "base_uri": "https://localhost:8080/"
        },
        "id": "z4K8sI5vE5yp",
        "outputId": "64bcfcda-3ae1-4d1e-8052-bad488990bd5"
      },
      "execution_count": null,
      "outputs": [
        {
          "output_type": "stream",
          "name": "stdout",
          "text": [
            "['Maria', 'João', 'Ana']\n",
            "Maria, João, Ana\n",
            "Maria - João - Ana\n",
            "MariaJoãoAna\n"
          ]
        }
      ]
    },
    {
      "cell_type": "code",
      "source": [
        "frase = \"Phyton rainha, Portugol nadinha\"\n",
        "\n",
        "print(frase.upper())\n",
        "print(frase.lower())\n",
        "print(frase.capitalize())\n",
        "print(frase.title())\n",
        "print(frase.count(\"a\"))\n",
        "nova_frase = frase.replace(\"nadinha\", \"chatinha\")\n",
        "print(nova_frase)"
      ],
      "metadata": {
        "colab": {
          "base_uri": "https://localhost:8080/"
        },
        "id": "rFrOhyLvFtfD",
        "outputId": "caa8f490-94a1-4d11-c976-ef4606410d6b"
      },
      "execution_count": null,
      "outputs": [
        {
          "output_type": "stream",
          "name": "stdout",
          "text": [
            "PHYTON RAINHA, PORTUGOL NADINHA\n",
            "phyton rainha, portugol nadinha\n",
            "Phyton rainha, portugol nadinha\n",
            "Phyton Rainha, Portugol Nadinha\n",
            "4\n",
            "Phyton rainha, Portugol chatinha\n"
          ]
        }
      ]
    },
    {
      "cell_type": "code",
      "source": [
        "valor = int(input(\"Digite um valor: \"))\n",
        "\n",
        "print"
      ],
      "metadata": {
        "id": "qd2U4tVFHaRf"
      },
      "execution_count": null,
      "outputs": []
    },
    {
      "cell_type": "markdown",
      "source": [
        "Arquivos"
      ],
      "metadata": {
        "id": "WW-bWoISKRf8"
      }
    },
    {
      "cell_type": "markdown",
      "source": [
        "Simples ou binários"
      ],
      "metadata": {
        "id": "l7ntL-PeKUV_"
      }
    },
    {
      "cell_type": "code",
      "source": [
        "file = open(\"exemplo_texto_plano.txt\", \"a\")"
      ],
      "metadata": {
        "id": "8psc3L8PKQ9Y"
      },
      "execution_count": null,
      "outputs": []
    },
    {
      "cell_type": "code",
      "source": [
        "r+ leitura e escrita"
      ],
      "metadata": {
        "id": "Ndxf2HDLLGr1"
      },
      "execution_count": null,
      "outputs": []
    },
    {
      "cell_type": "code",
      "source": [
        "arquivo = open(\"arquivo.txt\", \"r\")\n",
        "soma = 0.0\n",
        "quant = 0\n",
        "\n",
        "for nota in arquivo:\n",
        "  nota = float(nota)\n",
        "  soma += nota\n",
        "  quant +=1\n",
        "\n",
        "arquivo.close()\n",
        "\n",
        "media = soma/quant\n",
        "print(f\"A média foi: {media:.2f}\")"
      ],
      "metadata": {
        "id": "sMeE6ayqL6B0"
      },
      "execution_count": null,
      "outputs": []
    },
    {
      "cell_type": "code",
      "source": [
        "read()\n",
        "\n",
        "read()\n",
        "\n",
        "readlines()"
      ],
      "metadata": {
        "id": "9uKbP9UFN7g1"
      },
      "execution_count": null,
      "outputs": []
    },
    {
      "cell_type": "code",
      "source": [
        "import os\n",
        "os.system(\"cls\")\n",
        "\n",
        "arquivo = open(\"poesia.txt\", \"r\", encoding=\"utf8\")\n",
        "\n",
        "print(arquivo.readline())\n",
        "\n",
        "arquivo.close()"
      ],
      "metadata": {
        "id": "9aD6UyrUOAm4"
      },
      "execution_count": null,
      "outputs": []
    },
    {
      "cell_type": "code",
      "source": [
        "import os\n",
        "os.system(\"cls\")\n",
        "\n",
        "arquivo = open(\"dados.txt\", \"r\", encoding=\"utf8\")\n",
        "dados = arquivo.read()\n",
        "palavras = dados.slit()\n",
        "\n",
        "arquivo.close()\n",
        "\n",
        "print(dados)\n",
        "print(\"Quantidade de caracteres:\", len(dados))\n",
        "print(\"Quantidade de palavras:\", len(palavras))"
      ],
      "metadata": {
        "id": "_HVXaqiiOYB5"
      },
      "execution_count": null,
      "outputs": []
    },
    {
      "cell_type": "code",
      "source": [
        "manipulador = open('arquivo.txt', 'w')"
      ],
      "metadata": {
        "id": "-Oti7cI7T6_9"
      },
      "execution_count": null,
      "outputs": []
    },
    {
      "cell_type": "code",
      "source": [
        "#Escrever um string por ver\n",
        "write()\n",
        "\n",
        "#Várias informações por vez, salvas em uma lista\n",
        "writeline()"
      ],
      "metadata": {
        "id": "oHCyQnBOUFO5"
      },
      "execution_count": null,
      "outputs": []
    },
    {
      "cell_type": "code",
      "source": [
        "arquivo = open(\"exemplo.txt\", \"w\")\n",
        "\n",
        "disciplina = input(\"Qual disciplina você está cursando: \")\n",
        "turma = input(\"Qual a sua turma: \")\n",
        "\n",
        "arquivo.write(disciplina + \"\\n\")\n",
        "arquivo.write(turma)\n",
        "arquivo.close()\n",
        "\n",
        "arquivo = open(\"exemplo.txt\", \"r\")\n",
        "print(arquivo.read())\n",
        "arquivo.close()\n",
        "\n"
      ],
      "metadata": {
        "colab": {
          "base_uri": "https://localhost:8080/"
        },
        "id": "OeZVfXI_UXAl",
        "outputId": "58293ca4-7784-494f-98ce-5e31483085bc"
      },
      "execution_count": null,
      "outputs": [
        {
          "output_type": "stream",
          "name": "stdout",
          "text": [
            "Qual disciplina você está cursando: Python\n",
            "Qual a sua turma: A\n",
            "<_io.TextIOWrapper name='exemplo.txt' mode='w' encoding='UTF-8'>\n"
          ]
        }
      ]
    }
  ]
}